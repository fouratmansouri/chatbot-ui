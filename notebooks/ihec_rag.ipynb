{
 "cells": [
  {
   "cell_type": "markdown",
   "id": "82e35139-5a09-4af3-9dc8-461c1a9072a4",
   "metadata": {},
   "source": [
    "## Loading dependencies"
   ]
  },
  {
   "cell_type": "code",
   "execution_count": null,
   "id": "413189f4-eb01-4256-a6af-78062caad460",
   "metadata": {},
   "outputs": [],
   "source": [
    "# !pip install langchain ollama python-dotenv\n",
    "# !pip install -U \"langchain-chroma>=0.1.2\"\n",
    "# %pip install -qU langchain-ollama\n",
    "#!pip install langchain-community\n",
    "#!pip install jq"
   ]
  },
  {
   "cell_type": "code",
   "execution_count": 3,
   "id": "f7d14903-7f9f-4d98-8e98-0a0818f04bbc",
   "metadata": {},
   "outputs": [],
   "source": [
    "from langchain_ollama import OllamaEmbeddings\n",
    "from langchain_chroma import Chroma\n",
    "import chromadb\n",
    "\n",
    "# Initialize embeddings\n",
    "embeddings = OllamaEmbeddings(model=\"mxbai-embed-large:latest\")"
   ]
  },
  {
   "cell_type": "code",
   "execution_count": 4,
   "id": "c572815d-e4e8-4fa8-8d1a-88ec05e11915",
   "metadata": {},
   "outputs": [],
   "source": [
    "vector_store = Chroma(\n",
    "    collection_name=\"ihec_collection_Orca\",\n",
    "    embedding_function=embeddings,\n",
    "    persist_directory=\"./chroma_langchain_ihec_db\",  \n",
    ")\n"
   ]
  },
  {
   "cell_type": "markdown",
   "id": "bce4bd6b-657f-47e6-9293-500a8e1f3411",
   "metadata": {},
   "source": [
    "## Loading the first dataset"
   ]
  },
  {
   "cell_type": "code",
   "execution_count": 5,
   "id": "7b408937-2a3a-4e3f-b211-db5965e896d4",
   "metadata": {},
   "outputs": [],
   "source": [
    "from langchain_community.document_loaders import JSONLoader\n",
    "# the metadata extraction function.\n",
    "def metadata_func(record: dict, metadata: dict) -> dict:\n",
    "\n",
    "    metadata[\"id\"] = record.get(\"id\")\n",
    "    metadata[\"category\"] = record.get(\"category\")\n",
    "    metadata[\"question\"] = record.get(\"question\")\n",
    "    metadata[\"answer\"] = record.get(\"answer\")\n",
    "    return metadata\n",
    "\n",
    "loader = JSONLoader(\n",
    "    file_path='./FAQ.json',\n",
    "    jq_schema=r'.dataset[] | . + {\"content\": \"\\(.answer) \\(.question) \\(.category)\"}',\n",
    "    content_key=\"content\",\n",
    "    metadata_func=metadata_func\n",
    ")\n",
    "\n",
    "documents = loader.load()"
   ]
  },
  {
   "cell_type": "code",
   "execution_count": 6,
   "id": "de04e332-c36f-493d-a5e8-a34e03c1d4a9",
   "metadata": {},
   "outputs": [],
   "source": [
    "from langchain.text_splitter import RecursiveCharacterTextSplitter\n",
    "text_splitter = RecursiveCharacterTextSplitter(\n",
    "    chunk_size=512,  \n",
    "    chunk_overlap=50,  \n",
    "    separators=[\"\\n\\n\", \"\\n\", \".\", \"!\", \"?\", \",\", \" \"]  \n",
    ")\n",
    "\n",
    "# 3. Split documents into chunks\n",
    "split_docs = text_splitter.split_documents(documents)"
   ]
  },
  {
   "cell_type": "code",
   "execution_count": 24,
   "id": "984ee3e1-2ff0-46c9-b8e7-9084b42aec22",
   "metadata": {},
   "outputs": [],
   "source": [
    "db = Chroma.from_documents(\n",
    "    documents=split_docs,  # Use split documents\n",
    "    embedding=embeddings,\n",
    "    persist_directory=\"./chroma_langchain_ihec_db\",\n",
    "    collection_name=\"ihec_collection_Orca\",  # Ensure consistent name\n",
    "    collection_metadata={\"hnsw:space\": \"cosine\"}\n",
    ")"
   ]
  },
  {
   "cell_type": "code",
   "execution_count": 25,
   "id": "9e5b8f68-2d4c-4fb1-9ffb-d270a4158e33",
   "metadata": {},
   "outputs": [
    {
     "name": "stdout",
     "output_type": "stream",
     "text": [
      "Top results:\n",
      "\n",
      "Nous offrons des navettes gratuites entre le campus et les résidences étudiantes, ainsi que des réductions sur les transports publics.\n",
      "Metadata: {'answer': 'Nous offrons des navettes gratuites entre le campus et les résidences étudiantes, ainsi que des réductions sur les transports publics.', 'category': 'Vie Étudiante', 'id': 20, 'question': 'Comment fonctionne le système de transport pour les étudiants ?', 'seq_num': 20, 'source': 'C:\\\\Users\\\\foura\\\\Documents\\\\Orca\\\\FAQ.json'}\n",
      "---\n",
      "\n",
      "Nous offrons des navettes gratuites entre le campus et les résidences étudiantes, ainsi que des réductions sur les transports publics.\n",
      "Metadata: {'answer': 'Nous offrons des navettes gratuites entre le campus et les résidences étudiantes, ainsi que des réductions sur les transports publics.', 'category': 'Vie Étudiante', 'id': 20, 'question': 'Comment fonctionne le système de transport pour les étudiants ?', 'seq_num': 20, 'source': 'C:\\\\Users\\\\foura\\\\Documents\\\\Orca\\\\FAQ.json'}\n",
      "---\n"
     ]
    }
   ],
   "source": [
    "# 4. Test similarity search\n",
    "query = \"Comment fonctionne le système de transport pour les étudiants ?\"\n",
    "results = db.similarity_search(query, k=2)\n",
    "\n",
    "print(\"Top results:\")\n",
    "for doc in results:\n",
    "    print(f\"\\n{doc.metadata['answer']}\\nMetadata: {doc.metadata}\\n---\")"
   ]
  },
  {
   "cell_type": "markdown",
   "id": "00b18feb-8f45-436c-821f-4a0f942d88b9",
   "metadata": {},
   "source": [
    "## Loading the second dataset : dataset built from IHEC website"
   ]
  },
  {
   "cell_type": "code",
   "execution_count": 23,
   "id": "8157ae7d-4a08-4cad-b198-6a03208e1aaf",
   "metadata": {},
   "outputs": [
    {
     "name": "stdout",
     "output_type": "stream",
     "text": [
      "Liens pertinents:\n",
      "\n",
      "🔗 N/A\n",
      "🌐 N/A\n",
      "Extrait: Accédez à de nombreuses opportunités de carrières dans votre secteur grâce à des enseignements variés et de pointe.\n",
      "Visez une carrière à l’internation...\n",
      "---\n",
      "\n",
      "🔗 N/A\n",
      "🌐 N/A\n",
      "Extrait: Accédez à de nombreuses opportunités de carrières dans votre secteur grâce à des enseignements variés et de pointe.\n",
      "Visez une carrière à l’internation...\n",
      "---\n",
      "\n",
      "🔗 N/A\n",
      "🌐 N/A\n",
      "Extrait: Pour atteindre l’objectif de l’employabilité, une mise en relation de l’étudiant en quête, de stage, d’emplois ou d'incubation et les entreprises en q...\n",
      "---\n"
     ]
    }
   ],
   "source": [
    "def webpage_metadata_func(record: dict, metadata: dict) -> dict:\n",
    "    # Ensure metadata values are valid types or provide a default value\n",
    "    metadata.update({\n",
    "        \"url\": record.get(\"url\", \"N/A\"),  # Default to \"N/A\" if url is None\n",
    "        \"anchor_text\": record.get(\"anchor_text\", \"N/A\"),  # Default to \"N/A\"\n",
    "        \"raw_content\": record.get(\"content\", \"N/A\")  # Default to \"N/A\"\n",
    "    })\n",
    "    return metadata\n",
    "\n",
    "webpage_loader = JSONLoader(\n",
    "    file_path='ihec_website_dataset.json',\n",
    "    jq_schema=r'.[] | {\"web_content\": \"\\(.anchor_text) \\(.content)\"}',\n",
    "    content_key=\"web_content\",\n",
    "    metadata_func=webpage_metadata_func\n",
    ")\n",
    "\n",
    "# Initialize components\n",
    "web_splitter = RecursiveCharacterTextSplitter(\n",
    "    chunk_size=1024,\n",
    "    chunk_overlap=256,\n",
    "    separators=[\"\\n\\n## \", \"\\n\\n\", \"\\n\", \". \"]\n",
    ")\n",
    "\n",
    "def process_dataset(loader, splitter, collection_name, persist_dir):\n",
    "    docs = loader.load()\n",
    "    split_docs = splitter.split_documents(docs)\n",
    "    \n",
    "    global embeddings  \n",
    "    if 'embeddings' not in globals():\n",
    "        raise ValueError(\"Embeddings variable is not defined.\")\n",
    "    \n",
    "    return Chroma.from_documents(\n",
    "        documents=split_docs,\n",
    "        embedding=embeddings,\n",
    "        collection_name=collection_name,\n",
    "        persist_directory=persist_dir,\n",
    "        collection_metadata={\"hnsw:space\": \"cosine\"}\n",
    "    )\n",
    "\n",
    "# Create web content vector store\n",
    "web_db = process_dataset(\n",
    "    webpage_loader,\n",
    "    web_splitter,\n",
    "    collection_name=\"university_links\",\n",
    "    persist_dir=\"./chroma_langchain_ihec_db\"\n",
    ")\n",
    "\n",
    "# Test query\n",
    "web_query = \"Où trouver les emplois ?\"\n",
    "web_results = web_db.similarity_search(web_query, k=2)\n",
    "\n",
    "print(\"Liens pertinents:\")\n",
    "for doc in web_results:\n",
    "    print(f\"\\n {doc.metadata.get('anchor_text', 'No anchor text')}\")\n",
    "    print(f\" {doc.metadata.get('url', 'No URL')}\")\n",
    "    print(f\"Extrait: {doc.page_content[:150]}...\\n---\")"
   ]
  },
  {
   "cell_type": "code",
   "execution_count": null,
   "id": "b78445a9-e736-4118-a0a5-7aab2205e178",
   "metadata": {},
   "outputs": [],
   "source": [
    "# reloaded_vector_store = Chroma(\n",
    "#     collection_name=\"ihec_collection\",\n",
    "#     embedding_function=embeddings,\n",
    "#     persist_directory=\"./chroma_langchain_db\",  # Match original path\n",
    "# )"
   ]
  },
  {
   "cell_type": "markdown",
   "id": "291f15f8-4432-4248-8d34-896b6d49a952",
   "metadata": {},
   "source": [
    "## Generation"
   ]
  },
  {
   "cell_type": "code",
   "execution_count": 27,
   "id": "2d9d107b-05cd-4bd5-ad24-f0cd415c60fc",
   "metadata": {},
   "outputs": [],
   "source": [
    "from langchain_ollama import ChatOllama\n",
    "\n",
    "llm = ChatOllama(\n",
    "    model=\"llama3.1:8b\",\n",
    "    temperature=0.2,\n",
    "    max_tokens=200\n",
    ")"
   ]
  },
  {
   "cell_type": "code",
   "execution_count": 35,
   "id": "a3cdf879-3cbd-430d-865c-45e3788e3169",
   "metadata": {},
   "outputs": [
    {
     "name": "stdout",
     "output_type": "stream",
     "text": [
      "Je suis désolé, mais le contexte fourni ne mentionne pas les laboratoires de recherche. Il semble que le contexte se concentre sur l'offre d'éducation et les opportunités de carrière pour les étudiants, ainsi que les services de transport gratuits entre le campus et les résidences étudiantes.\n",
      "\n",
      "Cependant, si vous cherchez à accéder aux laboratoires de recherche, je suppose qu'il faudrait contacter directement l'université ou la faculté concernée pour obtenir plus d'informations sur les procédures d'accès.\n"
     ]
    }
   ],
   "source": [
    "from langchain_core.messages import HumanMessage, SystemMessage\n",
    "# Prompt\n",
    "rag_prompt = \"\"\"You are an assistant for question-answering task.\n",
    "\n",
    "Your role is to guide and explain  students \n",
    "\n",
    "Here is the context to use to answer the question:\n",
    "\n",
    "{context} \n",
    "\n",
    "Think carefully about the above context. \n",
    "\n",
    "Now, review the user question:\n",
    "\n",
    "{question}\n",
    "\n",
    "Provide an answer to this questions using only the above context. \n",
    "\n",
    "Use three sentences maximum and keep the answer concise.\n",
    "\n",
    "Answer:\"\"\"\n",
    "\n",
    "# Post-processing\n",
    "def format_docs(docs):\n",
    "    return \"\\n\\n\".join(doc.page_content for doc in docs)\n",
    "\n",
    "# Test\n",
    "question= \"Comment accéder aux laboratoires de recherche ?\"\n",
    "\n",
    "# Perform similarity searches\n",
    "results = db.similarity_search(query, k=2)\n",
    "web_results = web_db.similarity_search(web_query, k=3)\n",
    "\n",
    "# Extract `page_content` from both sets of results\n",
    "combined_content = \" \".join([doc.page_content for doc in results + web_results])\n",
    "\n",
    "\n",
    "rag_prompt_formatted = rag_prompt.format(context=combined_content, question=question)\n",
    "generation = llm.invoke([HumanMessage(content=rag_prompt_formatted)])\n",
    "print(generation.content)"
   ]
  },
  {
   "cell_type": "code",
   "execution_count": null,
   "id": "a4967428-b137-42f6-b28a-93119cbcb50e",
   "metadata": {},
   "outputs": [],
   "source": []
  }
 ],
 "metadata": {
  "kernelspec": {
   "display_name": "university-rag-env",
   "language": "python",
   "name": "university-rag-env"
  },
  "language_info": {
   "codemirror_mode": {
    "name": "ipython",
    "version": 3
   },
   "file_extension": ".py",
   "mimetype": "text/x-python",
   "name": "python",
   "nbconvert_exporter": "python",
   "pygments_lexer": "ipython3",
   "version": "3.12.0"
  }
 },
 "nbformat": 4,
 "nbformat_minor": 5
}
